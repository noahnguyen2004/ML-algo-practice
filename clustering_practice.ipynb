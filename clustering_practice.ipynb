{
  "nbformat": 4,
  "nbformat_minor": 0,
  "metadata": {
    "colab": {
      "provenance": [],
      "authorship_tag": "ABX9TyNqD7OeQ2ooLu1FluAMCr42",
      "include_colab_link": true
    },
    "kernelspec": {
      "name": "python3",
      "display_name": "Python 3"
    },
    "language_info": {
      "name": "python"
    }
  },
  "cells": [
    {
      "cell_type": "markdown",
      "metadata": {
        "id": "view-in-github",
        "colab_type": "text"
      },
      "source": [
        "<a href=\"https://colab.research.google.com/github/noahnguyen2004/ML-algo-practice/blob/main/clustering_practice.ipynb\" target=\"_parent\"><img src=\"https://colab.research.google.com/assets/colab-badge.svg\" alt=\"Open In Colab\"/></a>"
      ]
    },
    {
      "cell_type": "code",
      "source": [
        "import numpy as np\n",
        "import matplotlib.pyplot as plt\n",
        "import pandas as pd"
      ],
      "metadata": {
        "id": "Ql7YV5bJmUlH"
      },
      "execution_count": 1,
      "outputs": []
    },
    {
      "cell_type": "code",
      "execution_count": 2,
      "metadata": {
        "id": "cOAKBUCZmF3U"
      },
      "outputs": [],
      "source": [
        "def find_closest_centroids(X, centroids):\n",
        "  '''\n",
        "    Computes the centroid memberships for every example\n",
        "\n",
        "    Args:\n",
        "        X (ndarray): (m, n) Input values\n",
        "        centroids (ndarray): (K, n) centroids\n",
        "\n",
        "    Returns:\n",
        "        idx (array_like): (m,) closest centroids\n",
        "  '''\n",
        "  K = centroids.shape[0]                                  # number of cluster centroids\n",
        "\n",
        "  idx = np.zeros(X.shape[0], dtype=int)                   # array containing the closest centroid to its corresponding data point\n",
        "\n",
        "  for i in range(X.shape[0]):\n",
        "    distance = []\n",
        "    for j in range(K):\n",
        "      l2_norm = np.linalg.norm(X[i] - centroids[j])       # compute the distance between a data point and all cluster centroids\n",
        "      distance.append(l2_norm)\n",
        "    idx[i] = np.argmin(distance)\n",
        "\n",
        "  return idx"
      ]
    }
  ]
}